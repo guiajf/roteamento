{
 "cells": [
  {
   "cell_type": "markdown",
   "id": "97310630-2e4a-4a13-bf01-019718368504",
   "metadata": {},
   "source": [
    "# Mapeamento de rotas com OSMnx"
   ]
  },
  {
   "cell_type": "markdown",
   "id": "c3ed3f6b-70bd-4e1f-bdb3-482ec6f4d0fe",
   "metadata": {},
   "source": [
    "Utilizamos a biblioteca do Python **OSMnx**, desenvolvida e mantida por Geoff Boeing, professor de Planejamento Urbano e Análise Espacial da USC - University of Southern California, para calcular e visualizar a rota mais curta entre pontos de interesse, que fazem parte do circuito turístico denominado  [Museu de Percurso Raphael Arcuri](https://www.instagram.com/museuraphaelarcuri?igsh=MWRjNWV1cnZnczE5aQ==), de acordo com o projeto desenvolvido por [Letícia Rabelo](https://www.instagram.com/leticiarabelo.arq?igsh=dndsYTdsemM4ZWdw). "
   ]
  },
  {
   "cell_type": "markdown",
   "id": "d9ab72d0-8bfd-4ba7-ad31-c1fa0571d0ac",
   "metadata": {},
   "source": [
    "### Importamos bibliotecas"
   ]
  },
  {
   "cell_type": "code",
   "execution_count": null,
   "id": "756622a0-a10e-4e80-aca8-942a0bff7ce1",
   "metadata": {},
   "outputs": [],
   "source": [
    "import osmnx as ox\n",
    "import pandas as pd\n",
    "import numpy as np\n",
    "import folium\n",
    "from folium.plugins import Fullscreen\n",
    "from shapely.geometry import Point\n",
    "from sklearn.neighbors import NearestNeighbors"
   ]
  },
  {
   "cell_type": "markdown",
   "id": "7af52b21-f561-4ef7-bd6a-338b32cbd4f4",
   "metadata": {},
   "source": [
    "### Identificamos a versão do pacote OSMnx\n",
    "\n",
    "Verificamos a versão do **OSMnx** para garantir compatibilidade:"
   ]
  },
  {
   "cell_type": "code",
   "execution_count": null,
   "id": "6bfeb28b-9cf6-420d-b7c5-4eeb1fb6b3af",
   "metadata": {},
   "outputs": [],
   "source": [
    "print(f\"Versão do OSMnx: {ox.__version__}\")"
   ]
  },
  {
   "cell_type": "markdown",
   "id": "1c2868e1-e3d9-4e34-8795-ce2c59b7efbf",
   "metadata": {},
   "source": [
    "### Definimos os pontos de interesse\n",
    "\n",
    "Armazenamos os locais em um dicionário com as coordenadas:"
   ]
  },
  {
   "cell_type": "code",
   "execution_count": null,
   "id": "e71be10c-90cb-4023-b85f-78667cd9cbc5",
   "metadata": {},
   "outputs": [],
   "source": [
    "coordenadas_referencia = {\n",
    "    \"Paço Municipal\": (-21.761600, -43.349999),\n",
    "    \"ED. CIAMPI\": (-21.7608312, -43.3496202),\n",
    "    \"Galeria Pio X\": (-21.7606305, -43.3484793),\n",
    "    \"Cine Theatro Central\": (-21.7615775, -43.3478918),\n",
    "    \"Palacete Pinho\": (-21.7608331, -43.3468349),\n",
    "    \"Cia. Dias Cardoso\": (-21.7601146, -43.3448549),\n",
    "    \"Hotel Príncipe\": (-21.7599733, -43.3440394),\n",
    "    \"Associação Comercial\": (-21.7597099, -43.3441725),\n",
    "    \"Cia. Pantaleone Arcuri\": (-21.762536, -43.342788),\n",
    "    \"Vila Iracema\": (-21.763336, -43.344481),\n",
    "    \"Palacete dos Fellet\": (-21.763280,\t-43.345717),\n",
    "    \"Residência Raphael Arcuri\": (-21.763699, -43.342097),\n",
    "    \"Castelinho dos Bracher\": (-21.763666, -43.341959),\n",
    "    \"Casa D'Itália\": (-21.764455, -43.348467)\n",
    "}"
   ]
  },
  {
   "cell_type": "markdown",
   "id": "6adbc2b3-113d-4f88-8b6f-2629f0791fd3",
   "metadata": {},
   "source": [
    "### Criamos o  data frame a partir do dicionário\n",
    "\n",
    "Convertemos as coordenadas para um *data frame*:"
   ]
  },
  {
   "cell_type": "code",
   "execution_count": null,
   "id": "03d2ae7e-a045-493b-bd63-8f10faaf4121",
   "metadata": {},
   "outputs": [],
   "source": [
    "df = pd.DataFrame.from_dict(coordenadas_referencia, \n",
    "                            orient='index', \n",
    "                            columns=['latitude', 'longitude'])\n",
    "\n",
    "# Resetar o índice para ter uma coluna com os nomes dos locais\n",
    "df = df.reset_index().rename(columns={'index': 'obra'})"
   ]
  },
  {
   "cell_type": "markdown",
   "id": "d8846ea1-8e54-46d4-a6b0-8d4167242497",
   "metadata": {},
   "source": [
    "### Calculamos a rota mais curta\n",
    "\n",
    "A classe *NearestNeighbors* do módulo *sklearn.neighbors*, junto com o algoritmo *ball_tree*, fornece uma solução robusta para problemas de busca por proximidade, como o do roteamento entre pontos geográficos. "
   ]
  },
  {
   "cell_type": "code",
   "execution_count": null,
   "id": "b0f941f3-8b0c-4f6a-b3f9-df2ea828a89f",
   "metadata": {},
   "outputs": [],
   "source": [
    "# Calcular a distância para cada par de pontos consecutivos\n",
    "X = np.array(df[['latitude', 'longitude']])\n",
    "obras = df['obra']\n",
    "nbrs = NearestNeighbors(n_neighbors=len(X), algorithm='ball_tree').fit(X)\n",
    "distances, indices = nbrs.kneighbors(X)\n",
    "\n",
    "# Encontrar o roteiro mais curto\n",
    "visited = np.zeros(len(X), dtype=bool)\n",
    "\n",
    "end_point = 13  # Definindo o ponto final como 13 (Casa d'Itália)\n",
    "\n",
    "visited[0] = True\n",
    "tour = [0]\n",
    "current = 0\n",
    "\n",
    "# Modificado para parar quando chegar ao ponto 13\n",
    "while current != end_point and len(tour) < len(X):\n",
    "    unvisited_mask = np.logical_not(visited[indices[current]])\n",
    "    if np.any(unvisited_mask):\n",
    "        nearest = indices[current][unvisited_mask][0].item()\n",
    "    else:\n",
    "        # Se todos os vizinhos foram visitados, escolha o próximo não visitado\n",
    "        unvisited = np.where(visited == False)[0]\n",
    "        if len(unvisited) > 0:\n",
    "            nearest = unvisited[0]\n",
    "        else:\n",
    "            break\n",
    "    \n",
    "    tour.append(nearest)\n",
    "    visited[nearest] = True\n",
    "    current = nearest\n",
    "\n",
    "    # Se chegou ao ponto final, pare\n",
    "    if current == end_point:\n",
    "        break\n",
    "\n",
    "# Resultado\n",
    "print(\"Rota mais curta terminando no item 12:\")\n",
    "for i, point in enumerate(tour):\n",
    "    print(f\"{i}. {obras[point]} (Ponto {point})\")\n"
   ]
  },
  {
   "cell_type": "markdown",
   "id": "943ed9e4-f123-4f15-be87-bb208618ae02",
   "metadata": {},
   "source": [
    "### Criamos o dicionário da rota mais curta"
   ]
  },
  {
   "cell_type": "code",
   "execution_count": null,
   "id": "a2e6b10e-01ed-497c-b337-45d8a794b596",
   "metadata": {},
   "outputs": [],
   "source": [
    "# Nomes dos locais na ordem original\n",
    "obras = df['obra'].tolist()  \n",
    "\n",
    "# Ordenar o dicionário conforme a rota\n",
    "coordenadas_ordenadas = {\n",
    "    obras[i]: coordenadas_referencia[obras[i]] \n",
    "    for i in tour\n",
    "}"
   ]
  },
  {
   "cell_type": "markdown",
   "id": "df0c276e-63d1-4925-b510-5d7697a2f6b6",
   "metadata": {},
   "source": [
    "### Definimos o percurso a pé\n",
    "\n",
    "Usamos o pacote **OSMnx** para criar um grafo da rede viária para pedestres. Para cada par de pontos consecutivos, calculamos o caminho mais curto no grafo:"
   ]
  },
  {
   "cell_type": "code",
   "execution_count": null,
   "id": "3530f68a-a811-499a-8709-28559b921c86",
   "metadata": {},
   "outputs": [],
   "source": [
    "\n",
    "# Transformar os valores do dicionário em uma lista de tuplas\n",
    "itinerario = list(coordenadas_ordenadas.values())\n",
    "\n",
    "# Criar grafo de caminhada ao redor do primeiro ponto\n",
    "G = ox.graph_from_point(itinerario[0], dist=1500, network_type='walk')\n",
    "\n",
    "# 2. Criar caminho completo conectando todos os pares consecutivos\n",
    "full_path = []\n",
    "\n",
    "for i in range(len(itinerario) - 1):\n",
    "    orig_point = itinerario[i]\n",
    "    dest_point = itinerario[i + 1]\n",
    "    \n",
    "    try:\n",
    "        orig_node = ox.distance.nearest_nodes(G, orig_point[1], orig_point[0])  \n",
    "        dest_node = ox.distance.nearest_nodes(G, dest_point[1], dest_point[0])\n",
    "        \n",
    "        segment = ox.shortest_path(G, orig_node, dest_node, weight='length')\n",
    "        \n",
    "        # Evitar duplicações de nós\n",
    "        if full_path and full_path[-1] == segment[0]:\n",
    "            full_path += segment[1:]\n",
    "        else:\n",
    "            full_path += segment\n",
    "    except Exception as e:\n",
    "        print(f\"Erro ao processar trecho entre {orig_point} e {dest_point}: {e}\")\n",
    "\n",
    "# Obter coordenadas (lat, lon) dos nós do caminho\n",
    "route_coords = [(G.nodes[n]['y'], G.nodes[n]['x']) for n in full_path]\n"
   ]
  },
  {
   "cell_type": "markdown",
   "id": "9b81101f-7042-4c90-bdf9-28125af62f8f",
   "metadata": {},
   "source": [
    "### Visualizamos o mapa \n",
    "\n",
    "Criamos um mapa interativo com o pacote **Folium**:"
   ]
  },
  {
   "cell_type": "code",
   "execution_count": null,
   "id": "5b439466-e2cc-4d00-b6aa-63ae7aa589ba",
   "metadata": {
    "scrolled": true
   },
   "outputs": [],
   "source": [
    "# Criar mapa\n",
    "mapa = folium.Map(location=itinerario[0], zoom_start=15)\n",
    "\n",
    "# Adicionar pontos do itinerário como marcadores com ícones personalizados\n",
    "nomes = list(coordenadas_ordenadas.keys())\n",
    "for idx, (nome, coord) in enumerate(zip(nomes, coordenadas_ordenadas.values())):\n",
    "    if idx == 0:\n",
    "        icon_color = 'blue'\n",
    "    elif idx == len(coordenadas_ordenadas) - 1:\n",
    "        icon_color = 'red'\n",
    "    else:\n",
    "        icon_color = 'orange'\n",
    "    \n",
    "    folium.Marker(\n",
    "        coord,\n",
    "        tooltip=nome,\n",
    "        icon=folium.Icon(icon=\"monument\", color=icon_color, prefix=\"fa\")\n",
    "    ).add_to(mapa)\n",
    "\n",
    "# Adicionar a linha da rota em vermelho\n",
    "folium.PolyLine(route_coords, color='red', weight=4).add_to(mapa)\n",
    "\n",
    "# Exibir o mapa\n",
    "mapa"
   ]
  },
  {
   "cell_type": "code",
   "execution_count": null,
   "id": "19508773-4334-4b54-882a-6c397c4c6a6a",
   "metadata": {},
   "outputs": [],
   "source": [
    "mapa.save(\"roteamento.html\")"
   ]
  },
  {
   "cell_type": "markdown",
   "id": "121ed144-4438-4669-a60a-10bf9d1d96e4",
   "metadata": {},
   "source": [
    "\n",
    "\n",
    "**Considerações finais**\n",
    "\n",
    "Personalizamos os ícones dos marcadores com cores distintas para identificar cada etapa do percurso.\n",
    "\n",
    "O código pode ser adaptado para tarefas distintas, como roteiros turísticos otimizados, planejamento de entregas, análise de acessibilidade urbana e simulações de evacuação, em casos de desastres naturais."
   ]
  },
  {
   "cell_type": "code",
   "execution_count": null,
   "id": "2503d8fd-1d49-4842-a2c1-fa099bd3d693",
   "metadata": {},
   "outputs": [],
   "source": []
  },
  {
   "cell_type": "markdown",
   "id": "35f05af1-f664-4d5b-8cca-e13bdd05385b",
   "metadata": {},
   "source": [
    "**Referências**\n",
    "\n",
    "Boeing, G. (2025). Modeling and Analyzing Urban Networks and Amenities with OSMnx. Geographical Analysis, published online ahead of print. doi:10.1111/gean.70009\n",
    "\n",
    "SCIKIT-LEARN. User Guide: Nearest Neighbors. 2025. Disponível em: https://scikit-learn.org/stable/modules/neighbors.html. Acesso em: 18 JUN 2025."
   ]
  },
  {
   "cell_type": "code",
   "execution_count": null,
   "id": "1d6491bc-ee12-4027-ac8c-133a884b2610",
   "metadata": {},
   "outputs": [],
   "source": []
  }
 ],
 "metadata": {
  "kernelspec": {
   "display_name": "Python 3 (ipykernel)",
   "language": "python",
   "name": "python3"
  },
  "language_info": {
   "codemirror_mode": {
    "name": "ipython",
    "version": 3
   },
   "file_extension": ".py",
   "mimetype": "text/x-python",
   "name": "python",
   "nbconvert_exporter": "python",
   "pygments_lexer": "ipython3",
   "version": "3.12.3"
  }
 },
 "nbformat": 4,
 "nbformat_minor": 5
}
